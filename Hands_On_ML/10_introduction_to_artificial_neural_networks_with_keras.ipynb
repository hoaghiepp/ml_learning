{
 "cells": [
  {
   "cell_type": "markdown",
   "id": "8109407c",
   "metadata": {},
   "source": [
    "# The Perceptron"
   ]
  },
  {
   "cell_type": "markdown",
   "id": "5ae1f8f9",
   "metadata": {},
   "source": [
    "Là một mạng ANN đơn giản nhất"
   ]
  }
 ],
 "metadata": {
  "language_info": {
   "name": "python"
  }
 },
 "nbformat": 4,
 "nbformat_minor": 5
}
