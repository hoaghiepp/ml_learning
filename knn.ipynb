{
 "cells": [
  {
   "cell_type": "code",
   "id": "initial_id",
   "metadata": {
    "collapsed": true,
    "ExecuteTime": {
     "end_time": "2025-03-07T05:12:03.565498Z",
     "start_time": "2025-03-07T05:12:01.773578Z"
    }
   },
   "source": [
    "import numpy as np\n",
    "from mnist import MNIST\n",
    "\n",
    "import matplotlib.pyplot as plt\n",
    "from sklearn import neighbors\n",
    "from sklearn.metrics import accuracy_score\n",
    "import time"
   ],
   "outputs": [],
   "execution_count": 2
  },
  {
   "metadata": {
    "ExecuteTime": {
     "end_time": "2025-03-07T05:25:52.610459Z",
     "start_time": "2025-03-07T05:25:39.154084Z"
    }
   },
   "cell_type": "code",
   "source": [
    "mndata = MNIST(\"MNIST/\")\n",
    "mndata.load_testing()\n",
    "mndata.load_training()\n",
    "\n",
    "X_test = mndata.test_images\n",
    "X_train = mndata.train_images\n",
    "y_test = np.asarray(mndata.test_labels)\n",
    "y_train = np.asarray(mndata.train_labels)\n",
    "\n",
    "start_time = time.time()\n",
    "clf = neighbors.KNeighborsClassifier(n_neighbors=1, p=2)\n",
    "clf.fit(X_train, y_train)\n",
    "y_pred = clf.predict(X_test)\n",
    "\n",
    "end_time = time.time()\n",
    "\n",
    "print(\"Accuracy of 1NN with MNIST: \", accuracy_score(y_test, y_pred))\n",
    "print(\"Time elapsed: \", end_time - start_time, \" seconds\")"
   ],
   "id": "53c31a17655d6477",
   "outputs": [
    {
     "name": "stdout",
     "output_type": "stream",
     "text": [
      "Accuracy of 1NN with MNIST:  0.9691\n",
      "Time elapsed:  11.423922061920166  seconds\n"
     ]
    }
   ],
   "execution_count": 10
  }
 ],
 "metadata": {
  "kernelspec": {
   "display_name": "Python 3",
   "language": "python",
   "name": "python3"
  },
  "language_info": {
   "codemirror_mode": {
    "name": "ipython",
    "version": 2
   },
   "file_extension": ".py",
   "mimetype": "text/x-python",
   "name": "python",
   "nbconvert_exporter": "python",
   "pygments_lexer": "ipython2",
   "version": "2.7.6"
  }
 },
 "nbformat": 4,
 "nbformat_minor": 5
}
