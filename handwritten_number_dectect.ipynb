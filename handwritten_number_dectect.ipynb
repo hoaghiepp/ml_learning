{
 "cells": [
  {
   "cell_type": "code",
   "execution_count": 3,
   "metadata": {},
   "outputs": [],
   "source": [
    "import numpy as np\n",
    "from mnist import MNIST\n",
    "import matplotlib.pyplot as plt\n",
    "from sklearn import linear_model\n",
    "from sklearn.metrics import accuracy_score\n",
    "from display_network import *"
   ]
  },
  {
   "cell_type": "code",
   "execution_count": 39,
   "metadata": {},
   "outputs": [
    {
     "name": "stdout",
     "output_type": "stream",
     "text": [
      "(60000, 784) (60000,)\n"
     ]
    }
   ],
   "source": [
    "mntrain = MNIST('MNIST/')\n",
    "mntrain.load_training()\n",
    "Xtrain_all = np.asarray(mntrain.train_images)\n",
    "ytrain_all = np.array(mntrain.train_labels.tolist())\n",
    "print(Xtrain_all.shape, ytrain_all.shape, sep=' ')\n",
    "\n",
    "mntest = MNIST('MNIST/')\n",
    "mntest.load_testing()\n",
    "Xtest_all = np.asarray(mntest.test_images)\n",
    "ytest_all = np.array(mntest.test_labels.tolist())"
   ]
  },
  {
   "cell_type": "code",
   "execution_count": 50,
   "metadata": {},
   "outputs": [
    {
     "data": {
      "image/png": "[encoded data removed]",
      "text/plain": [
       "<Figure size 640x480 with 1 Axes>"
      ]
     },
     "metadata": {},
     "output_type": "display_data"
    },
    {
     "name": "stdout",
     "output_type": "stream",
     "text": [
      "5 0 4 1 9 2 1 3 1 4 "
     ]
    }
   ],
   "source": [
    "N = 10\n",
    "\n",
    "img = display_network(Xtrain_all[:N,:].T, 1, N)\n",
    "\n",
    "plt.imshow(img, cmap='gray')\n",
    "plt.axis('off')\n",
    "plt.tight_layout()\n",
    "plt.show()\n",
    "\n",
    "for i in range(N):\n",
    "    print(ytrain_all[i], end=' ')\n"
   ]
  },
  {
   "cell_type": "code",
   "execution_count": 41,
   "metadata": {},
   "outputs": [
    {
     "name": "stdout",
     "output_type": "stream",
     "text": [
      "(12665, 784) (12665,)\n"
     ]
    }
   ],
   "source": [
    "cls = [[0], [1]]\n",
    "def extract_data(X, y, classes):\n",
    "    \"\"\"\n",
    "    X: numpy array, matrix of size (N, d), d is data dim\n",
    "    y: numpy array, size (N, )\n",
    "    cls: two lists of labels. For example: \n",
    "        cls = [[1, 4, 7], [5, 6, 8]]\n",
    "    return:\n",
    "        X: extracted data\n",
    "        y: extracted label \n",
    "            (0 and 1, corresponding to two lists in cls)\n",
    "    \"\"\"\n",
    "    y_res_id = np.array([])\n",
    "    for i in classes[0]:\n",
    "        y_res_id = np.hstack((y_res_id, np.where(y == i)[0]))\n",
    "    n0 = len(y_res_id)\n",
    "    \n",
    "    for i in classes[1]:\n",
    "        y_res_id = np.hstack((y_res_id, np.where(y == i)[0]))\n",
    "    n1 = len(y_res_id) - n0\n",
    "\n",
    "    y_res_id = y_res_id.astype(int)\n",
    "    X_res = X[y_res_id, :] / 255.0\n",
    "    y_res = np.asarray([0] * n0 + [1] * n1)\n",
    "    return X_res, y_res\n",
    "\n",
    "# extract data for training \n",
    "(X_train, y_train) = extract_data(Xtrain_all, ytrain_all, cls)\n",
    "print (X_train.shape, y_train.shape, sep=' ')\n",
    "\n",
    "# extract data for test \n",
    "(X_test, y_test) = extract_data(Xtest_all, ytest_all, cls)"
   ]
  },
  {
   "cell_type": "code",
   "execution_count": 48,
   "metadata": {},
   "outputs": [
    {
     "name": "stdout",
     "output_type": "stream",
     "text": [
      "Accuracy: 99.91 %\n"
     ]
    }
   ],
   "source": [
    "# train the logistic regression model \n",
    "logreg = linear_model.LogisticRegression(C=1e5) # just a big number \n",
    "logreg.fit(X_train, y_train)\n",
    "\n",
    "# predict \n",
    "y_pred = logreg.predict(X_test)\n",
    "print (\"Accuracy: %.2f %%\" %(100*accuracy_score(y_test, y_pred)))"
   ]
  },
  {
   "cell_type": "code",
   "execution_count": 57,
   "metadata": {},
   "outputs": [
    {
     "data": {
      "image/png": "[encoded data removed]",
      "text/plain": [
       "<Figure size 640x480 with 1 Axes>"
      ]
     },
     "metadata": {},
     "output_type": "display_data"
    },
    {
     "name": "stdout",
     "output_type": "stream",
     "text": [
      "1 0 "
     ]
    }
   ],
   "source": [
    "# display misclassified image(s)\n",
    "mis = np.where((y_pred - y_test) != 0)[0]\n",
    "Xmis = X_test[mis, :]\n",
    "ymis = y_pred[mis]\n",
    "\n",
    "plt.axis('off')\n",
    "A = display_network(Xmis.T, 1, 10)\n",
    "f2 = plt.imshow(A, interpolation='nearest' )\n",
    "plt.gray()\n",
    "plt.show()\n",
    "\n",
    "for i in ymis:\n",
    "    print(i, end=' ')"
   ]
  },
  {
   "cell_type": "code",
   "execution_count": 58,
   "metadata": {},
   "outputs": [
    {
     "name": "stdout",
     "output_type": "stream",
     "text": [
      "Accuracy: 92.43 %\n"
     ]
    },
    {
     "name": "stderr",
     "output_type": "stream",
     "text": [
      "c:\\Users\\PC\\anaconda3\\envs\\ml_learning\\lib\\site-packages\\sklearn\\linear_model\\_logistic.py:465: ConvergenceWarning: lbfgs failed to converge (status=1):\n",
      "STOP: TOTAL NO. OF ITERATIONS REACHED LIMIT.\n",
      "\n",
      "Increase the number of iterations (max_iter) or scale the data as shown in:\n",
      "    https://scikit-learn.org/stable/modules/preprocessing.html\n",
      "Please also refer to the documentation for alternative solver options:\n",
      "    https://scikit-learn.org/stable/modules/linear_model.html#logistic-regression\n",
      "  n_iter_i = _check_optimize_result(\n"
     ]
    },
    {
     "ename": "",
     "evalue": "",
     "output_type": "error",
     "traceback": [
      "\u001b[1;31mThe Kernel crashed while executing code in the current cell or a previous cell. \n",
      "\u001b[1;31mPlease review the code in the cell(s) to identify a possible cause of the failure. \n",
      "\u001b[1;31mClick <a href='https://aka.ms/vscodeJupyterKernelCrash'>here</a> for more info. \n",
      "\u001b[1;31mView Jupyter <a href='command:jupyter.viewOutput'>log</a> for further details."
     ]
    }
   ],
   "source": [
    "logreg.fit(Xtrain_all, ytrain_all)\n",
    "y_pred = logreg.predict(Xtest_all)\n",
    "print (\"Accuracy: %.2f %%\" %(100*accuracy_score(ytest_all, y_pred.tolist())))"
   ]
  }
 ],
 "metadata": {
  "kernelspec": {
   "display_name": "data_eng",
   "language": "python",
   "name": "python3"
  },
  "language_info": {
   "codemirror_mode": {
    "name": "ipython",
    "version": 3
   },
   "file_extension": ".py",
   "mimetype": "text/x-python",
   "name": "python",
   "nbconvert_exporter": "python",
   "pygments_lexer": "ipython3",
   "version": "3.11.11"
  }
 },
 "nbformat": 4,
 "nbformat_minor": 2
}
